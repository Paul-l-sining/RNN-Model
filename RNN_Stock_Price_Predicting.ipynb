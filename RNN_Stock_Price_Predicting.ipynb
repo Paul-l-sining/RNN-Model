{
 "cells": [
  {
   "cell_type": "code",
   "execution_count": 1,
   "metadata": {},
   "outputs": [],
   "source": [
    "# Importing the libraries\n",
    "import numpy as np\n",
    "import matplotlib.pyplot as plt \n",
    "import pandas as pd"
   ]
  },
  {
   "cell_type": "code",
   "execution_count": 2,
   "metadata": {},
   "outputs": [],
   "source": [
    "# Importing the training set \n",
    "data = pd.read_csv(\"train_set.csv\")\n",
    "dataset = data.iloc[:, 1:2].values"
   ]
  },
  {
   "cell_type": "code",
   "execution_count": 3,
   "metadata": {
    "scrolled": true
   },
   "outputs": [
    {
     "data": {
      "text/plain": [
       "1998"
      ]
     },
     "execution_count": 3,
     "metadata": {},
     "output_type": "execute_result"
    }
   ],
   "source": [
    "len(dataset)"
   ]
  },
  {
   "cell_type": "code",
   "execution_count": 9,
   "metadata": {},
   "outputs": [],
   "source": [
    "# Feature Scaling\n",
    "from sklearn.preprocessing import MinMaxScaler\n",
    "sc = MinMaxScaler(feature_range = (0,1))\n",
    "training_set_scaled = sc.fit_transform(dataset)"
   ]
  },
  {
   "cell_type": "code",
   "execution_count": 11,
   "metadata": {},
   "outputs": [],
   "source": [
    "# Creating a data structure with 60 timestens and 1 output\n",
    "x_train = []\n",
    "y_train = []\n",
    "\n",
    "# Each time we split out 59 sample training data and 1 label data to train the model\n",
    "# i.e. say we have nums from 1 to 6, we tell machine 1 to 5 and let machine guess what last num is,\n",
    "#      if machine tells 6, which is correct, if not, then it is an error. \n",
    "for i in range(60, len(dataset)):\n",
    "    x_train.append(training_set_scaled[i-60:i, 0]) \n",
    "    y_train.append(training_set_scaled[i, 0])\n",
    "x_train, y_train = np.array(x_train), np.array(y_train)\n",
    "\n",
    "# Reshaping\n",
    "x_train = np.reshape(x_train, (x_train.shape[0], x_train.shape[1], 1))"
   ]
  },
  {
   "cell_type": "code",
   "execution_count": 12,
   "metadata": {},
   "outputs": [],
   "source": [
    "# Importing the Keras libraries and packages\n",
    "from keras.models import Sequential \n",
    "from keras.layers import Dense\n",
    "from keras.layers import LSTM\n",
    "from keras.layers import Dropout"
   ]
  },
  {
   "cell_type": "code",
   "execution_count": 13,
   "metadata": {},
   "outputs": [],
   "source": [
    "# Initialising the RNN \n",
    "rnn = Sequential()"
   ]
  },
  {
   "cell_type": "code",
   "execution_count": 14,
   "metadata": {},
   "outputs": [],
   "source": [
    "# Adding the first LSTM layer and some Dropout regularisation\n",
    "rnn.add(LSTM(units = 50, return_sequences = True, input_shape = (x_train.shape[1], 1)))\n",
    "rnn.add(Dropout(0.2)) # Randomly turn off 20% of the units to prevent overfitting"
   ]
  },
  {
   "cell_type": "code",
   "execution_count": 15,
   "metadata": {},
   "outputs": [],
   "source": [
    "# Adding the Second LSTM layer and some Dropout regularisation\n",
    "rnn.add(LSTM(units = 50, return_sequences = True))\n",
    "rnn.add(Dropout(0.2))"
   ]
  },
  {
   "cell_type": "code",
   "execution_count": 16,
   "metadata": {},
   "outputs": [],
   "source": [
    "# Adding the Third LSTM layer and some Dropout regularisation\n",
    "rnn.add(LSTM(units = 50, return_sequences = True))\n",
    "rnn.add(Dropout(0.2))"
   ]
  },
  {
   "cell_type": "code",
   "execution_count": 17,
   "metadata": {},
   "outputs": [],
   "source": [
    "# Adding the Fourth LSTM layer and some Dropout regularisation\n",
    "rnn.add(LSTM(units = 50))\n",
    "rnn.add(Dropout(0.2))"
   ]
  },
  {
   "cell_type": "code",
   "execution_count": 18,
   "metadata": {},
   "outputs": [],
   "source": [
    "# Adding output layer\n",
    "rnn.add(Dense(units = 1))"
   ]
  },
  {
   "cell_type": "code",
   "execution_count": 19,
   "metadata": {},
   "outputs": [],
   "source": [
    "# Compiling RNN\n",
    "rnn.compile(optimizer = 'adam', loss = 'mean_squared_error')"
   ]
  },
  {
   "cell_type": "code",
   "execution_count": 20,
   "metadata": {
    "scrolled": true
   },
   "outputs": [
    {
     "name": "stdout",
     "output_type": "stream",
     "text": [
      "Epoch 1/100\n",
      "61/61 [==============================] - 8s 58ms/step - loss: 0.0639\n",
      "Epoch 2/100\n",
      "61/61 [==============================] - 4s 70ms/step - loss: 0.0048\n",
      "Epoch 3/100\n",
      "61/61 [==============================] - 5s 83ms/step - loss: 0.0041\n",
      "Epoch 4/100\n",
      "61/61 [==============================] - 5s 76ms/step - loss: 0.0041\n",
      "Epoch 5/100\n",
      "61/61 [==============================] - 5s 78ms/step - loss: 0.0037\n",
      "Epoch 6/100\n",
      "61/61 [==============================] - 4s 71ms/step - loss: 0.0045\n",
      "Epoch 7/100\n",
      "61/61 [==============================] - 4s 72ms/step - loss: 0.0033\n",
      "Epoch 8/100\n",
      "61/61 [==============================] - 4s 72ms/step - loss: 0.0033\n",
      "Epoch 9/100\n",
      "61/61 [==============================] - 5s 77ms/step - loss: 0.0031\n",
      "Epoch 10/100\n",
      "61/61 [==============================] - 4s 71ms/step - loss: 0.0030\n",
      "Epoch 11/100\n",
      "61/61 [==============================] - 5s 74ms/step - loss: 0.0027\n",
      "Epoch 12/100\n",
      "61/61 [==============================] - 5s 80ms/step - loss: 0.0025\n",
      "Epoch 13/100\n",
      "61/61 [==============================] - 5s 84ms/step - loss: 0.0031\n",
      "Epoch 14/100\n",
      "61/61 [==============================] - 6s 95ms/step - loss: 0.0026\n",
      "Epoch 15/100\n",
      "61/61 [==============================] - 7s 114ms/step - loss: 0.0026\n",
      "Epoch 16/100\n",
      "61/61 [==============================] - 7s 109ms/step - loss: 0.0026\n",
      "Epoch 17/100\n",
      "61/61 [==============================] - 5s 77ms/step - loss: 0.0023\n",
      "Epoch 18/100\n",
      "61/61 [==============================] - 4s 70ms/step - loss: 0.0021\n",
      "Epoch 19/100\n",
      "61/61 [==============================] - 4s 73ms/step - loss: 0.0023\n",
      "Epoch 20/100\n",
      "61/61 [==============================] - 4s 66ms/step - loss: 0.0022\n",
      "Epoch 21/100\n",
      "61/61 [==============================] - 4s 67ms/step - loss: 0.0024\n",
      "Epoch 22/100\n",
      "61/61 [==============================] - 4s 61ms/step - loss: 0.0019\n",
      "Epoch 23/100\n",
      "61/61 [==============================] - 4s 62ms/step - loss: 0.0022\n",
      "Epoch 24/100\n",
      "61/61 [==============================] - 4s 62ms/step - loss: 0.0019\n",
      "Epoch 25/100\n",
      "61/61 [==============================] - 4s 62ms/step - loss: 0.0020\n",
      "Epoch 26/100\n",
      "61/61 [==============================] - 4s 65ms/step - loss: 0.0021\n",
      "Epoch 27/100\n",
      "61/61 [==============================] - 4s 69ms/step - loss: 0.0023\n",
      "Epoch 28/100\n",
      "61/61 [==============================] - 4s 64ms/step - loss: 0.0021\n",
      "Epoch 29/100\n",
      "61/61 [==============================] - 4s 64ms/step - loss: 0.0019\n",
      "Epoch 30/100\n",
      "61/61 [==============================] - 4s 70ms/step - loss: 0.0020\n",
      "Epoch 31/100\n",
      "61/61 [==============================] - 4s 69ms/step - loss: 0.0020\n",
      "Epoch 32/100\n",
      "61/61 [==============================] - 4s 67ms/step - loss: 0.0017\n",
      "Epoch 33/100\n",
      "61/61 [==============================] - 4s 68ms/step - loss: 0.0019\n",
      "Epoch 34/100\n",
      "61/61 [==============================] - 4s 64ms/step - loss: 0.0017\n",
      "Epoch 35/100\n",
      "61/61 [==============================] - 4s 70ms/step - loss: 0.0016\n",
      "Epoch 36/100\n",
      "61/61 [==============================] - 5s 75ms/step - loss: 0.0018\n",
      "Epoch 37/100\n",
      "61/61 [==============================] - 4s 74ms/step - loss: 0.0015\n",
      "Epoch 38/100\n",
      "61/61 [==============================] - 4s 69ms/step - loss: 0.0016\n",
      "Epoch 39/100\n",
      "61/61 [==============================] - 4s 71ms/step - loss: 0.0016\n",
      "Epoch 40/100\n",
      "61/61 [==============================] - 4s 72ms/step - loss: 0.0015\n",
      "Epoch 41/100\n",
      "61/61 [==============================] - 5s 76ms/step - loss: 0.0014\n",
      "Epoch 42/100\n",
      "61/61 [==============================] - 5s 78ms/step - loss: 0.0017\n",
      "Epoch 43/100\n",
      "61/61 [==============================] - 5s 85ms/step - loss: 0.0015\n",
      "Epoch 44/100\n",
      "61/61 [==============================] - 4s 69ms/step - loss: 0.0014\n",
      "Epoch 45/100\n",
      "61/61 [==============================] - 5s 76ms/step - loss: 0.0014\n",
      "Epoch 46/100\n",
      "61/61 [==============================] - 4s 73ms/step - loss: 0.0014\n",
      "Epoch 47/100\n",
      "61/61 [==============================] - 4s 68ms/step - loss: 0.0015\n",
      "Epoch 48/100\n",
      "61/61 [==============================] - 4s 66ms/step - loss: 0.0013\n",
      "Epoch 49/100\n",
      "61/61 [==============================] - 4s 64ms/step - loss: 0.0012\n",
      "Epoch 50/100\n",
      "61/61 [==============================] - 4s 68ms/step - loss: 0.0014\n",
      "Epoch 51/100\n",
      "61/61 [==============================] - 5s 90ms/step - loss: 0.0013\n",
      "Epoch 52/100\n",
      "61/61 [==============================] - 5s 85ms/step - loss: 0.0012\n",
      "Epoch 53/100\n",
      "61/61 [==============================] - 5s 75ms/step - loss: 0.0012\n",
      "Epoch 54/100\n",
      "61/61 [==============================] - 4s 71ms/step - loss: 0.0011\n",
      "Epoch 55/100\n",
      "61/61 [==============================] - 4s 69ms/step - loss: 0.0011\n",
      "Epoch 56/100\n",
      "61/61 [==============================] - 5s 78ms/step - loss: 0.0012\n",
      "Epoch 57/100\n",
      "61/61 [==============================] - 4s 70ms/step - loss: 0.0012\n",
      "Epoch 58/100\n",
      "61/61 [==============================] - 5s 74ms/step - loss: 0.0013\n",
      "Epoch 59/100\n",
      "61/61 [==============================] - 5s 83ms/step - loss: 0.0010\n",
      "Epoch 60/100\n",
      "61/61 [==============================] - 4s 71ms/step - loss: 0.0010\n",
      "Epoch 61/100\n",
      "61/61 [==============================] - 4s 68ms/step - loss: 0.0011\n",
      "Epoch 62/100\n",
      "61/61 [==============================] - 4s 70ms/step - loss: 9.3188e-04\n",
      "Epoch 63/100\n",
      "61/61 [==============================] - 4s 69ms/step - loss: 0.0011\n",
      "Epoch 64/100\n",
      "61/61 [==============================] - 4s 67ms/step - loss: 9.5434e-04\n",
      "Epoch 65/100\n",
      "61/61 [==============================] - 4s 69ms/step - loss: 9.9254e-04\n",
      "Epoch 66/100\n",
      "61/61 [==============================] - 4s 66ms/step - loss: 9.0409e-04\n",
      "Epoch 67/100\n",
      "61/61 [==============================] - 4s 67ms/step - loss: 9.6799e-04\n",
      "Epoch 68/100\n",
      "61/61 [==============================] - 4s 72ms/step - loss: 9.4919e-04\n",
      "Epoch 69/100\n",
      "61/61 [==============================] - 4s 70ms/step - loss: 9.1595e-04\n",
      "Epoch 70/100\n",
      "61/61 [==============================] - 4s 72ms/step - loss: 8.6783e-04\n",
      "Epoch 71/100\n",
      "61/61 [==============================] - 4s 69ms/step - loss: 9.1979e-04\n",
      "Epoch 72/100\n",
      "61/61 [==============================] - 4s 66ms/step - loss: 8.7214e-04\n",
      "Epoch 73/100\n",
      "61/61 [==============================] - 4s 68ms/step - loss: 8.9459e-04\n",
      "Epoch 74/100\n",
      "61/61 [==============================] - 4s 67ms/step - loss: 9.8441e-04: 0s - l\n",
      "Epoch 75/100\n",
      "61/61 [==============================] - 4s 66ms/step - loss: 8.5966e-04\n",
      "Epoch 76/100\n",
      "61/61 [==============================] - 4s 67ms/step - loss: 9.1008e-04\n",
      "Epoch 77/100\n",
      "61/61 [==============================] - 4s 72ms/step - loss: 8.6568e-04\n",
      "Epoch 78/100\n",
      "61/61 [==============================] - 4s 72ms/step - loss: 8.4592e-04\n",
      "Epoch 79/100\n",
      "61/61 [==============================] - 5s 75ms/step - loss: 9.5069e-04\n",
      "Epoch 80/100\n",
      "61/61 [==============================] - 4s 69ms/step - loss: 8.7922e-04\n",
      "Epoch 81/100\n",
      "61/61 [==============================] - 4s 70ms/step - loss: 8.3708e-04\n",
      "Epoch 82/100\n",
      "61/61 [==============================] - 4s 70ms/step - loss: 8.9089e-04\n",
      "Epoch 83/100\n",
      "61/61 [==============================] - 4s 68ms/step - loss: 8.9752e-04\n",
      "Epoch 84/100\n",
      "61/61 [==============================] - 4s 71ms/step - loss: 8.9733e-04\n",
      "Epoch 85/100\n",
      "61/61 [==============================] - 4s 67ms/step - loss: 8.6337e-04\n",
      "Epoch 86/100\n",
      "61/61 [==============================] - 4s 68ms/step - loss: 8.6637e-04\n",
      "Epoch 87/100\n",
      "61/61 [==============================] - 5s 75ms/step - loss: 7.8270e-04\n",
      "Epoch 88/100\n",
      "61/61 [==============================] - 5s 89ms/step - loss: 9.0594e-04\n",
      "Epoch 89/100\n",
      "61/61 [==============================] - 4s 70ms/step - loss: 7.7303e-04\n",
      "Epoch 90/100\n",
      "61/61 [==============================] - 4s 66ms/step - loss: 7.7442e-04\n",
      "Epoch 91/100\n",
      "61/61 [==============================] - 4s 69ms/step - loss: 8.3940e-04\n",
      "Epoch 92/100\n",
      "61/61 [==============================] - 4s 67ms/step - loss: 8.4871e-04\n",
      "Epoch 93/100\n",
      "61/61 [==============================] - 4s 68ms/step - loss: 7.9627e-04\n",
      "Epoch 94/100\n",
      "61/61 [==============================] - 4s 68ms/step - loss: 6.9148e-04\n",
      "Epoch 95/100\n",
      "61/61 [==============================] - 4s 67ms/step - loss: 7.8429e-04\n",
      "Epoch 96/100\n",
      "61/61 [==============================] - 4s 72ms/step - loss: 7.1151e-04\n",
      "Epoch 97/100\n",
      "61/61 [==============================] - 4s 71ms/step - loss: 6.8952e-04\n",
      "Epoch 98/100\n",
      "61/61 [==============================] - 4s 71ms/step - loss: 7.6556e-04\n",
      "Epoch 99/100\n"
     ]
    },
    {
     "name": "stdout",
     "output_type": "stream",
     "text": [
      "61/61 [==============================] - 4s 72ms/step - loss: 7.3067e-04\n",
      "Epoch 100/100\n",
      "61/61 [==============================] - 4s 70ms/step - loss: 7.2434e-04\n"
     ]
    },
    {
     "data": {
      "text/plain": [
       "<tensorflow.python.keras.callbacks.History at 0x7fd9c7c23850>"
      ]
     },
     "execution_count": 20,
     "metadata": {},
     "output_type": "execute_result"
    }
   ],
   "source": [
    "# Fitting RNN and Start training\n",
    "rnn.fit(x_train, y_train, epochs = 20, batch_size = 32)"
   ]
  },
  {
   "cell_type": "code",
   "execution_count": 21,
   "metadata": {},
   "outputs": [],
   "source": [
    "# Making Predictions and visualizing the results\n",
    "\n",
    "dataset_test = pd.read_csv('test_set.csv')\n",
    "real_stock_price = dataset_test.iloc[:, 1:2].values"
   ]
  },
  {
   "cell_type": "code",
   "execution_count": 22,
   "metadata": {
    "scrolled": true
   },
   "outputs": [],
   "source": [
    "# Getting the predicted stock price \n",
    "dataset_total = pd.concat((data['Open'], dataset_test['Open']), axis = 0)\n",
    "inputs = dataset_total[len(dataset_total) - len(dataset_test) - 60:].values\n",
    "inputs = inputs.reshape(-1,1)\n",
    "inputs = sc.transform(inputs)\n",
    "x_test = []\n",
    "for i in range(60, 521):\n",
    "    x_test.append(inputs[i-60:i, 0])\n",
    "x_test = np.array(x_test)\n",
    "x_test = np.reshape(x_test, (x_test.shape[0], x_test.shape[1], 1))\n",
    "predicted_stock_price = rnn.predict(x_test)\n",
    "predicted_stock_price = sc.inverse_transform(predicted_stock_price)"
   ]
  },
  {
   "cell_type": "code",
   "execution_count": 28,
   "metadata": {},
   "outputs": [
    {
     "data": {
      "image/png": "[encoded data removed]",
      "text/plain": [
       "<Figure size 432x288 with 1 Axes>"
      ]
     },
     "metadata": {
      "needs_background": "light"
     },
     "output_type": "display_data"
    }
   ],
   "source": [
    "# Visualizing the results \n",
    "plt.plot(real_stock_price, color = 'red', label = 'Real Stock Price')\n",
    "plt.plot(predicted_stock_price, color = 'blue', label = 'Predicted Stock Price')\n",
    "plt.title(\"Stock Price Prediction\")\n",
    "plt.xlabel('Time')\n",
    "plt.ylabel('Stock Price')\n",
    "plt.legend()\n",
    "plt.show()"
   ]
  },
  {
   "cell_type": "code",
   "execution_count": null,
   "metadata": {},
   "outputs": [],
   "source": []
  }
 ],
 "metadata": {
  "kernelspec": {
   "display_name": "Python 3",
   "language": "python",
   "name": "python3"
  },
  "language_info": {
   "codemirror_mode": {
    "name": "ipython",
    "version": 3
   },
   "file_extension": ".py",
   "mimetype": "text/x-python",
   "name": "python",
   "nbconvert_exporter": "python",
   "pygments_lexer": "ipython3",
   "version": "3.8.5"
  }
 },
 "nbformat": 4,
 "nbformat_minor": 4
}
