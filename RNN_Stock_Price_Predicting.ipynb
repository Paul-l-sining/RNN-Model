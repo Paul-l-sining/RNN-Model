{
 "cells": [
  {
   "cell_type": "code",
   "execution_count": 1,
   "metadata": {},
   "outputs": [],
   "source": [
    "# Importing the libraries\n",
    "import numpy as np\n",
    "import matplotlib.pyplot as plt \n",
    "import pandas as pd"
   ]
  },
  {
   "cell_type": "code",
   "execution_count": 2,
   "metadata": {},
   "outputs": [],
   "source": [
    "# Importing the training set \n",
    "data = pd.read_csv(\"train_set.csv\")\n",
    "dataset = data.iloc[:, 1:2].values"
   ]
  },
  {
   "cell_type": "code",
   "execution_count": 3,
   "metadata": {
    "scrolled": true
   },
   "outputs": [
    {
     "data": {
      "text/plain": [
       "1998"
      ]
     },
     "execution_count": 3,
     "metadata": {},
     "output_type": "execute_result"
    }
   ],
   "source": [
    "len(dataset)"
   ]
  },
  {
   "cell_type": "code",
   "execution_count": 4,
   "metadata": {},
   "outputs": [],
   "source": [
    "# Feature Scaling\n",
    "from sklearn.preprocessing import MinMaxScaler\n",
    "sc = MinMaxScaler(feature_range = (0,1))\n",
    "training_set_scaled = sc.fit_transform(dataset)"
   ]
  },
  {
   "cell_type": "code",
   "execution_count": 5,
   "metadata": {},
   "outputs": [],
   "source": [
    "# Creating a data structure with 60 timestens and 1 output\n",
    "x_train = []\n",
    "y_train = []\n",
    "\n",
    "# Each time we split out 59 sample training data and 1 label data to train the model\n",
    "# i.e. say we have nums from 1 to 6, we tell machine 1 to 5 and let machine guess what last num is,\n",
    "#      if machine tells 6, which is correct, if not, then it is an error. \n",
    "for i in range(60, len(dataset)):\n",
    "    x_train.append(training_set_scaled[i-60:i, 0]) \n",
    "    y_train.append(training_set_scaled[i, 0])\n",
    "x_train, y_train = np.array(x_train), np.array(y_train)\n",
    "\n",
    "# Reshaping\n",
    "x_train = np.reshape(x_train, (x_train.shape[0], x_train.shape[1], 1))"
   ]
  },
  {
   "cell_type": "code",
   "execution_count": 14,
   "metadata": {},
   "outputs": [],
   "source": [
    "# Importing Test data\n",
    "dataset_test = pd.read_csv('test_set.csv')\n",
    "real_stock_price = dataset_test.iloc[:, 1:2].values # real_stock_price is the data we want to compare with"
   ]
  },
  {
   "cell_type": "code",
   "execution_count": 17,
   "metadata": {
    "scrolled": true
   },
   "outputs": [],
   "source": [
    "# Creating Test set\n",
    "dataset_total = pd.concat((data['Open'], dataset_test['Open']), axis = 0)\n",
    "inputs = dataset_total[len(dataset_total) - len(dataset_test) - 60:].values\n",
    "inputs = inputs.reshape(-1,1)\n",
    "inputs = sc.transform(inputs)\n",
    "x_test = []\n",
    "y_test = []\n",
    "for i in range(60, 521):\n",
    "    x_test.append(inputs[i-60:i, 0])\n",
    "    y_test.append(inputs[i, 0])\n",
    "x_test, y_test = np.array(x_test), np.array(y_test)\n",
    "x_test = np.reshape(x_test, (x_test.shape[0], x_test.shape[1], 1))"
   ]
  },
  {
   "cell_type": "code",
   "execution_count": 6,
   "metadata": {},
   "outputs": [],
   "source": [
    "# Importing the Keras libraries and packages\n",
    "from keras.models import Sequential \n",
    "from keras.layers import Dense\n",
    "from keras.layers import LSTM\n",
    "from keras.layers import Dropout"
   ]
  },
  {
   "cell_type": "code",
   "execution_count": 7,
   "metadata": {},
   "outputs": [],
   "source": [
    "# Initialising the RNN \n",
    "rnn = Sequential()"
   ]
  },
  {
   "cell_type": "code",
   "execution_count": 8,
   "metadata": {},
   "outputs": [],
   "source": [
    "# Adding the first LSTM layer and some Dropout regularisation\n",
    "rnn.add(LSTM(units = 50, return_sequences = True, input_shape = (x_train.shape[1], 1)))\n",
    "rnn.add(Dropout(0.2)) # Randomly turn off 20% of the units to prevent overfitting"
   ]
  },
  {
   "cell_type": "code",
   "execution_count": 9,
   "metadata": {},
   "outputs": [],
   "source": [
    "# Adding the Second LSTM layer and some Dropout regularisation\n",
    "rnn.add(LSTM(units = 50, return_sequences = True))\n",
    "rnn.add(Dropout(0.2))"
   ]
  },
  {
   "cell_type": "code",
   "execution_count": 10,
   "metadata": {},
   "outputs": [],
   "source": [
    "# Adding the Third LSTM layer and some Dropout regularisation\n",
    "rnn.add(LSTM(units = 50, return_sequences = True))\n",
    "rnn.add(Dropout(0.2))"
   ]
  },
  {
   "cell_type": "code",
   "execution_count": 11,
   "metadata": {},
   "outputs": [],
   "source": [
    "# Adding the Fourth LSTM layer and some Dropout regularisation\n",
    "rnn.add(LSTM(units = 50))\n",
    "rnn.add(Dropout(0.2))"
   ]
  },
  {
   "cell_type": "code",
   "execution_count": 12,
   "metadata": {},
   "outputs": [],
   "source": [
    "# Adding output layer\n",
    "rnn.add(Dense(units = 1))"
   ]
  },
  {
   "cell_type": "code",
   "execution_count": 13,
   "metadata": {},
   "outputs": [],
   "source": [
    "# Compiling RNN\n",
    "rnn.compile(optimizer = 'adam', loss = 'mean_squared_error')"
   ]
  },
  {
   "cell_type": "code",
   "execution_count": 19,
   "metadata": {
    "scrolled": true
   },
   "outputs": [
    {
     "name": "stdout",
     "output_type": "stream",
     "text": [
      "Epoch 1/100\n",
      "61/61 [==============================] - 10s 85ms/step - loss: 0.0650 - val_loss: 0.0021\n",
      "Epoch 2/100\n",
      "61/61 [==============================] - 4s 72ms/step - loss: 0.0048 - val_loss: 0.0015\n",
      "Epoch 3/100\n",
      "61/61 [==============================] - 4s 71ms/step - loss: 0.0039 - val_loss: 0.0020\n",
      "Epoch 4/100\n",
      "61/61 [==============================] - 4s 70ms/step - loss: 0.0039 - val_loss: 0.0015\n",
      "Epoch 5/100\n",
      "61/61 [==============================] - 4s 70ms/step - loss: 0.0036 - val_loss: 0.0015\n",
      "Epoch 6/100\n",
      "61/61 [==============================] - 4s 72ms/step - loss: 0.0033 - val_loss: 0.0022\n",
      "Epoch 7/100\n",
      "61/61 [==============================] - 4s 71ms/step - loss: 0.0034 - val_loss: 0.0015\n",
      "Epoch 8/100\n",
      "61/61 [==============================] - 4s 73ms/step - loss: 0.0034 - val_loss: 0.0021\n",
      "Epoch 9/100\n",
      "61/61 [==============================] - 4s 71ms/step - loss: 0.0036 - val_loss: 0.0015\n",
      "Epoch 10/100\n",
      "61/61 [==============================] - 4s 73ms/step - loss: 0.0028 - val_loss: 0.0014\n",
      "Epoch 11/100\n",
      "61/61 [==============================] - 4s 73ms/step - loss: 0.0028 - val_loss: 0.0021\n",
      "Epoch 12/100\n",
      "61/61 [==============================] - 4s 71ms/step - loss: 0.0028 - val_loss: 0.0021\n",
      "Epoch 13/100\n",
      "61/61 [==============================] - 4s 73ms/step - loss: 0.0028 - val_loss: 0.0015\n",
      "Epoch 14/100\n",
      "61/61 [==============================] - 4s 72ms/step - loss: 0.0027 - val_loss: 0.0015\n",
      "Epoch 15/100\n",
      "61/61 [==============================] - 4s 72ms/step - loss: 0.0025 - val_loss: 0.0018\n",
      "Epoch 16/100\n",
      "61/61 [==============================] - 4s 73ms/step - loss: 0.0027 - val_loss: 0.0018\n",
      "Epoch 17/100\n",
      "61/61 [==============================] - 4s 71ms/step - loss: 0.0026 - val_loss: 0.0019\n",
      "Epoch 18/100\n",
      "61/61 [==============================] - 4s 71ms/step - loss: 0.0030 - val_loss: 0.0014\n",
      "Epoch 19/100\n",
      "61/61 [==============================] - 4s 74ms/step - loss: 0.0023 - val_loss: 0.0014\n",
      "Epoch 20/100\n",
      "61/61 [==============================] - 5s 74ms/step - loss: 0.0022 - val_loss: 0.0013\n",
      "Epoch 21/100\n",
      "61/61 [==============================] - 4s 74ms/step - loss: 0.0023 - val_loss: 0.0014\n",
      "Epoch 22/100\n",
      "61/61 [==============================] - 4s 73ms/step - loss: 0.0021 - val_loss: 0.0012\n",
      "Epoch 23/100\n",
      "61/61 [==============================] - 4s 69ms/step - loss: 0.0023 - val_loss: 0.0012\n",
      "Epoch 24/100\n",
      "61/61 [==============================] - 4s 73ms/step - loss: 0.0021 - val_loss: 0.0012\n",
      "Epoch 25/100\n",
      "61/61 [==============================] - 4s 72ms/step - loss: 0.0020 - val_loss: 0.0012\n",
      "Epoch 26/100\n",
      "61/61 [==============================] - 4s 73ms/step - loss: 0.0021 - val_loss: 0.0012\n",
      "Epoch 27/100\n",
      "61/61 [==============================] - 5s 77ms/step - loss: 0.0021 - val_loss: 0.0011\n",
      "Epoch 28/100\n",
      "61/61 [==============================] - 5s 75ms/step - loss: 0.0019 - val_loss: 0.0014\n",
      "Epoch 29/100\n",
      "61/61 [==============================] - 5s 76ms/step - loss: 0.0020 - val_loss: 0.0012\n",
      "Epoch 30/100\n",
      "61/61 [==============================] - 5s 79ms/step - loss: 0.0019 - val_loss: 0.0015\n",
      "Epoch 31/100\n",
      "61/61 [==============================] - 5s 74ms/step - loss: 0.0018 - val_loss: 9.8169e-04\n",
      "Epoch 32/100\n",
      "61/61 [==============================] - 4s 72ms/step - loss: 0.0018 - val_loss: 0.0010\n",
      "Epoch 33/100\n",
      "61/61 [==============================] - 5s 77ms/step - loss: 0.0016 - val_loss: 0.0011\n",
      "Epoch 34/100\n",
      "61/61 [==============================] - 4s 71ms/step - loss: 0.0016 - val_loss: 7.6949e-04\n",
      "Epoch 35/100\n",
      "61/61 [==============================] - 4s 70ms/step - loss: 0.0017 - val_loss: 0.0014\n",
      "Epoch 36/100\n",
      "61/61 [==============================] - 4s 71ms/step - loss: 0.0019 - val_loss: 8.0563e-04\n",
      "Epoch 37/100\n",
      "61/61 [==============================] - 4s 68ms/step - loss: 0.0016 - val_loss: 7.4778e-04\n",
      "Epoch 38/100\n",
      "61/61 [==============================] - 4s 72ms/step - loss: 0.0015 - val_loss: 0.0012\n",
      "Epoch 39/100\n",
      "61/61 [==============================] - 5s 74ms/step - loss: 0.0016 - val_loss: 7.4496e-04\n",
      "Epoch 40/100\n",
      "61/61 [==============================] - 5s 76ms/step - loss: 0.0017 - val_loss: 6.7493e-04\n",
      "Epoch 41/100\n",
      "61/61 [==============================] - 5s 75ms/step - loss: 0.0016 - val_loss: 8.6476e-04\n",
      "Epoch 42/100\n",
      "61/61 [==============================] - 5s 78ms/step - loss: 0.0013 - val_loss: 7.1187e-04\n",
      "Epoch 43/100\n",
      "61/61 [==============================] - 4s 70ms/step - loss: 0.0014 - val_loss: 0.0010\n",
      "Epoch 44/100\n",
      "61/61 [==============================] - 4s 69ms/step - loss: 0.0014 - val_loss: 0.0010\n",
      "Epoch 45/100\n",
      "61/61 [==============================] - 5s 74ms/step - loss: 0.0014 - val_loss: 7.2962e-04\n",
      "Epoch 46/100\n",
      "61/61 [==============================] - 5s 76ms/step - loss: 0.0014 - val_loss: 6.3379e-04\n",
      "Epoch 47/100\n",
      "61/61 [==============================] - 5s 74ms/step - loss: 0.0014 - val_loss: 7.8015e-04\n",
      "Epoch 48/100\n",
      "61/61 [==============================] - 5s 76ms/step - loss: 0.0013 - val_loss: 9.3736e-04\n",
      "Epoch 49/100\n",
      "61/61 [==============================] - 5s 76ms/step - loss: 0.0013 - val_loss: 7.5814e-04\n",
      "Epoch 50/100\n",
      "61/61 [==============================] - 4s 71ms/step - loss: 0.0012 - val_loss: 8.0381e-04\n",
      "Epoch 51/100\n",
      "61/61 [==============================] - 4s 71ms/step - loss: 0.0012 - val_loss: 6.1171e-04\n",
      "Epoch 52/100\n",
      "61/61 [==============================] - 4s 73ms/step - loss: 0.0011 - val_loss: 5.5281e-04\n",
      "Epoch 53/100\n",
      "61/61 [==============================] - 4s 72ms/step - loss: 0.0012 - val_loss: 7.3900e-04\n",
      "Epoch 54/100\n",
      "61/61 [==============================] - 5s 74ms/step - loss: 0.0012 - val_loss: 6.0342e-04\n",
      "Epoch 55/100\n",
      "61/61 [==============================] - 5s 78ms/step - loss: 0.0010 - val_loss: 5.8073e-04\n",
      "Epoch 56/100\n",
      "61/61 [==============================] - 5s 80ms/step - loss: 0.0011 - val_loss: 5.8000e-04\n",
      "Epoch 57/100\n",
      "61/61 [==============================] - 4s 73ms/step - loss: 0.0011 - val_loss: 5.6430e-04\n",
      "Epoch 58/100\n",
      "61/61 [==============================] - 5s 74ms/step - loss: 0.0012 - val_loss: 5.2452e-04\n",
      "Epoch 59/100\n",
      "61/61 [==============================] - 5s 76ms/step - loss: 0.0010 - val_loss: 5.2199e-04\n",
      "Epoch 60/100\n",
      "61/61 [==============================] - 5s 76ms/step - loss: 0.0011 - val_loss: 0.0010\n",
      "Epoch 61/100\n",
      "61/61 [==============================] - 4s 72ms/step - loss: 0.0011 - val_loss: 9.4822e-04\n",
      "Epoch 62/100\n",
      "61/61 [==============================] - 5s 75ms/step - loss: 9.7085e-04 - val_loss: 7.1659e-04\n",
      "Epoch 63/100\n",
      "61/61 [==============================] - 5s 75ms/step - loss: 9.6676e-04 - val_loss: 7.6000e-04\n",
      "Epoch 64/100\n",
      "61/61 [==============================] - 5s 75ms/step - loss: 0.0011 - val_loss: 5.2771e-04\n",
      "Epoch 65/100\n",
      "61/61 [==============================] - 4s 72ms/step - loss: 0.0011 - val_loss: 5.5268e-04\n",
      "Epoch 66/100\n",
      "61/61 [==============================] - 5s 76ms/step - loss: 9.1386e-04 - val_loss: 5.1767e-04\n",
      "Epoch 67/100\n",
      "61/61 [==============================] - 4s 73ms/step - loss: 0.0011 - val_loss: 7.2974e-04\n",
      "Epoch 68/100\n",
      "61/61 [==============================] - 5s 74ms/step - loss: 8.5204e-04 - val_loss: 6.5839e-04\n",
      "Epoch 69/100\n",
      "61/61 [==============================] - 4s 72ms/step - loss: 0.0011 - val_loss: 6.6301e-04\n",
      "Epoch 70/100\n",
      "61/61 [==============================] - 5s 74ms/step - loss: 9.6534e-04 - val_loss: 8.0962e-04\n",
      "Epoch 71/100\n",
      "61/61 [==============================] - 4s 74ms/step - loss: 9.9627e-04 - val_loss: 4.8219e-04\n",
      "Epoch 72/100\n",
      "61/61 [==============================] - 5s 75ms/step - loss: 8.9101e-04 - val_loss: 4.8249e-04\n",
      "Epoch 73/100\n",
      "61/61 [==============================] - 5s 77ms/step - loss: 8.8085e-04 - val_loss: 6.2148e-04\n",
      "Epoch 74/100\n",
      "61/61 [==============================] - 5s 78ms/step - loss: 8.7083e-04 - val_loss: 4.6676e-04\n",
      "Epoch 75/100\n",
      "61/61 [==============================] - 5s 78ms/step - loss: 9.1695e-04 - val_loss: 4.5666e-04\n",
      "Epoch 76/100\n",
      "61/61 [==============================] - 4s 73ms/step - loss: 9.2862e-04 - val_loss: 5.2771e-04\n",
      "Epoch 77/100\n",
      "61/61 [==============================] - 5s 74ms/step - loss: 8.4096e-04 - val_loss: 5.2978e-04\n",
      "Epoch 78/100\n",
      "61/61 [==============================] - 4s 73ms/step - loss: 8.5037e-04 - val_loss: 6.8122e-04\n",
      "Epoch 79/100\n",
      "61/61 [==============================] - 4s 74ms/step - loss: 8.2697e-04 - val_loss: 5.2448e-04\n"
     ]
    },
    {
     "name": "stdout",
     "output_type": "stream",
     "text": [
      "Epoch 80/100\n",
      "61/61 [==============================] - 4s 69ms/step - loss: 9.6518e-04 - val_loss: 5.0542e-04\n",
      "Epoch 81/100\n",
      "61/61 [==============================] - 4s 72ms/step - loss: 8.7579e-04 - val_loss: 6.2036e-04\n",
      "Epoch 82/100\n",
      "61/61 [==============================] - 4s 69ms/step - loss: 7.9076e-04 - val_loss: 4.5055e-04\n",
      "Epoch 83/100\n",
      "61/61 [==============================] - 5s 75ms/step - loss: 7.8727e-04 - val_loss: 4.1904e-04\n",
      "Epoch 84/100\n",
      "61/61 [==============================] - 5s 79ms/step - loss: 7.8672e-04 - val_loss: 6.6088e-04\n",
      "Epoch 85/100\n",
      "61/61 [==============================] - 5s 85ms/step - loss: 7.8285e-04 - val_loss: 4.0603e-04\n",
      "Epoch 86/100\n",
      "61/61 [==============================] - 4s 70ms/step - loss: 7.9805e-04 - val_loss: 4.6090e-04\n",
      "Epoch 87/100\n",
      "61/61 [==============================] - 4s 72ms/step - loss: 7.5284e-04 - val_loss: 7.3477e-04\n",
      "Epoch 88/100\n",
      "61/61 [==============================] - 4s 67ms/step - loss: 7.5601e-04 - val_loss: 7.1481e-04\n",
      "Epoch 89/100\n",
      "61/61 [==============================] - 5s 76ms/step - loss: 7.9957e-04 - val_loss: 5.3839e-04\n",
      "Epoch 90/100\n",
      "61/61 [==============================] - 5s 76ms/step - loss: 7.6785e-04 - val_loss: 4.2366e-04\n",
      "Epoch 91/100\n",
      "61/61 [==============================] - 4s 73ms/step - loss: 8.5951e-04 - val_loss: 4.2872e-04\n",
      "Epoch 92/100\n",
      "61/61 [==============================] - 4s 70ms/step - loss: 8.7575e-04 - val_loss: 3.9071e-04\n",
      "Epoch 93/100\n",
      "61/61 [==============================] - 4s 73ms/step - loss: 7.5871e-04 - val_loss: 4.7203e-04\n",
      "Epoch 94/100\n",
      "61/61 [==============================] - 4s 71ms/step - loss: 7.9171e-04 - val_loss: 0.0014\n",
      "Epoch 95/100\n",
      "61/61 [==============================] - 5s 74ms/step - loss: 8.1228e-04 - val_loss: 5.1453e-04\n",
      "Epoch 96/100\n",
      "61/61 [==============================] - 4s 70ms/step - loss: 7.3368e-04 - val_loss: 3.6379e-04\n",
      "Epoch 97/100\n",
      "61/61 [==============================] - 4s 68ms/step - loss: 6.9474e-04 - val_loss: 3.6214e-04\n",
      "Epoch 98/100\n",
      "61/61 [==============================] - 4s 70ms/step - loss: 6.9989e-04 - val_loss: 3.6294e-04\n",
      "Epoch 99/100\n",
      "61/61 [==============================] - 4s 70ms/step - loss: 7.5185e-04 - val_loss: 7.5975e-04\n",
      "Epoch 100/100\n",
      "61/61 [==============================] - 5s 74ms/step - loss: 7.7433e-04 - val_loss: 3.6918e-04\n"
     ]
    }
   ],
   "source": [
    "# Fitting RNN and Start training\n",
    "r = rnn.fit(x_train, y_train, epochs = 100, batch_size = 32, validation_data = (x_test, y_test))"
   ]
  },
  {
   "cell_type": "code",
   "execution_count": 20,
   "metadata": {},
   "outputs": [
    {
     "data": {
      "image/png": "[encoded data removed]",
      "text/plain": [
       "<Figure size 432x288 with 1 Axes>"
      ]
     },
     "metadata": {
      "needs_background": "light"
     },
     "output_type": "display_data"
    }
   ],
   "source": [
    "# Plot loss per iteration\n",
    "plt.plot(r.history['loss'], label='loss')\n",
    "plt.plot(r.history['val_loss'], label='val_loss')\n",
    "plt.title(\"Loss Rate Through Training\")\n",
    "plt.xlabel('Epoch')\n",
    "plt.ylabel('Loss Rate')\n",
    "plt.legend()\n",
    "plt.show()"
   ]
  },
  {
   "cell_type": "code",
   "execution_count": 21,
   "metadata": {},
   "outputs": [],
   "source": [
    "# Making Predictions \n",
    "predicted_stock_price = rnn.predict(x_test)\n",
    "predicted_stock_price = sc.inverse_transform(predicted_stock_price)"
   ]
  },
  {
   "cell_type": "code",
   "execution_count": 22,
   "metadata": {},
   "outputs": [
    {
     "data": {
      "image/png": "[encoded data removed]",
      "text/plain": [
       "<Figure size 432x288 with 1 Axes>"
      ]
     },
     "metadata": {
      "needs_background": "light"
     },
     "output_type": "display_data"
    }
   ],
   "source": [
    "# Visualizing the results \n",
    "plt.plot(real_stock_price, color = 'red', label = 'Real Stock Price')\n",
    "plt.plot(predicted_stock_price, color = 'blue', label = 'Predicted Stock Price')\n",
    "plt.title(\"Stock Price Prediction\")\n",
    "plt.xlabel('Time')\n",
    "plt.ylabel('Stock Price')\n",
    "plt.legend()\n",
    "plt.show()"
   ]
  },
  {
   "cell_type": "code",
   "execution_count": null,
   "metadata": {},
   "outputs": [],
   "source": []
  }
 ],
 "metadata": {
  "kernelspec": {
   "display_name": "Python 3",
   "language": "python",
   "name": "python3"
  },
  "language_info": {
   "codemirror_mode": {
    "name": "ipython",
    "version": 3
   },
   "file_extension": ".py",
   "mimetype": "text/x-python",
   "name": "python",
   "nbconvert_exporter": "python",
   "pygments_lexer": "ipython3",
   "version": "3.8.5"
  }
 },
 "nbformat": 4,
 "nbformat_minor": 4
}
